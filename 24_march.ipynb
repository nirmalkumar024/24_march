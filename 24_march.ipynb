{
 "cells": [
  {
   "cell_type": "markdown",
   "id": "05c6fd27-b682-4aaa-ba2d-52541d403603",
   "metadata": {},
   "source": [
    "Q1. What are the key features of the wine quality data set? Discuss the importance of each feature in\n",
    "predicting the quality of wine."
   ]
  },
  {
   "cell_type": "markdown",
   "id": "0f754dd0-d600-454a-ab88-2879e96ea097",
   "metadata": {},
   "source": [
    "The key features of the wine quality data set are following:-\n",
    "It is red and white variants of the portugues \"vinho verde wine\" to privacy physicochemical (i/p) and secondry (o/p) variable are available.\n",
    "example:-There is no data about graph types.wine brand, wine selling price etc."
   ]
  },
  {
   "cell_type": "markdown",
   "id": "ea86de3e-23ad-4406-9a56-a5927f5bd308",
   "metadata": {},
   "source": [
    "Q2. How did you handle missing data in the wine quality data set during the feature engineering process?\n",
    "Discuss the advantages and disadvantages of different imputation techniques."
   ]
  },
  {
   "cell_type": "markdown",
   "id": "d408e206-ad89-48c4-a010-86f6122ee5fd",
   "metadata": {},
   "source": [
    "I have to remove the null values of the data and if its quantity is high then we have overfiting are apply accordig to the manner of the alogorthium.\n",
    "\n",
    "advantage:-\n",
    "It is that it is a simple and straightforward method that is easy to implement . It provides a quick solution for handling missing data and can be applied to large datasets efficiently . Additionally, imputing missing values with the mean can help preserve the overall distribution and variability of the data .\n",
    "disadvantages to this approach. One major disadvantage is that it assumes that the missing values are missing completely at random (MCAR), which may not always be the case in social surveys . This can lead to biased estimates and inaccurate results . Furthermore, imputing missing values with the mean does not take into account any relationships or patterns in the data, potentially leading to loss of information ."
   ]
  },
  {
   "cell_type": "code",
   "execution_count": null,
   "id": "f666ab96-e2e9-4d04-ae03-3342bb1c64d0",
   "metadata": {},
   "outputs": [],
   "source": [
    "Q3. What are the key factors that affect students' performance in exams? How would you go about\n",
    "analyzing these factors using statistical techniques?"
   ]
  },
  {
   "cell_type": "markdown",
   "id": "0bc090ba-19c7-4c8f-a012-029dab63e63d",
   "metadata": {},
   "source": [
    "The key fector of that affect the performanace of students are following:-\n",
    "\n",
    "It is the depend on the student time of study and play.\n",
    "It is lack of attending the lecture(class of the topics).\n",
    "It is depend on the punchuality of the student.\n",
    "\n",
    "In the numberical form examples:-\n",
    "\n",
    "student    study    result\n",
    "rahul      10 hrs    fail\n",
    "monu       15 hrs    pass\n",
    "rohan      12 hrs    pass\n",
    "\n",
    "Note:- it is taken form the study hrs from the week so one who study more than 10 hrs who will pass and get  good marks in exam."
   ]
  },
  {
   "cell_type": "code",
   "execution_count": null,
   "id": "0e5058e2-b6d7-4f42-8480-488b48feecc8",
   "metadata": {},
   "outputs": [],
   "source": [
    "Q4. Describe the process of feature engineering in the context of the student performance data set. How\n",
    "did you select and transform the variables for your model?"
   ]
  },
  {
   "cell_type": "code",
   "execution_count": null,
   "id": "ce42b27e-76b6-41a4-98b6-a3f7b241c99c",
   "metadata": {},
   "outputs": [],
   "source": [
    "There are many context of the student performance data set all ae following:-\n",
    "import the pandas as pd\n",
    "import the numpy as np\n",
    "import the seaborn as sns\n",
    "import matplotlib.pyplot as plt\n",
    "%matplotlib inline\n",
    "import warnings\n",
    "warnings.filter warnings('ignore')\n",
    "\n",
    "These all are help to get the data in good feature and the model transform."
   ]
  },
  {
   "cell_type": "markdown",
   "id": "8a427709-6222-4ce0-ab25-c736e5f72079",
   "metadata": {},
   "source": [
    "Q5. Load the wine quality data set and perform exploratory data analysis (EDA) to identify the distribution\n",
    "of each feature. Which feature(s) exhibit non-normality, and what transformations could be applied to\n",
    "these features to improve normality?"
   ]
  },
  {
   "cell_type": "markdown",
   "id": "133406f5-6093-4232-9e83-5b7daf1791be",
   "metadata": {},
   "source": [
    "All feature are following which help to modified the wine quality data set:-\n",
    "import the pandas as pd\n",
    "import the numpy as np\n",
    "import the seaborn as sns\n",
    "import matplotlib.pyplot as plt\n",
    "%matplotlib inline\n",
    "import warnings\n",
    "warnings.filter warnings('ignore')"
   ]
  },
  {
   "cell_type": "markdown",
   "id": "6f674804-3626-4db7-8e36-2657af245072",
   "metadata": {},
   "source": [
    "Q6. Using the wine quality data set, perform principal component analysis (PCA) to reduce the number of\n",
    "features. What is the minimum number of principal components required to explain 90% of the variance in\n",
    "the data?"
   ]
  },
  {
   "cell_type": "code",
   "execution_count": null,
   "id": "d441c3f2-3d6b-4870-a851-2ba927c5a5a7",
   "metadata": {},
   "outputs": [],
   "source": [
    "In wine quality data set we have to perform more variance so we need to correlation of the data set, it help me to identified the data which have to more data, and when we have to identified so "
   ]
  }
 ],
 "metadata": {
  "kernelspec": {
   "display_name": "Python 3 (ipykernel)",
   "language": "python",
   "name": "python3"
  },
  "language_info": {
   "codemirror_mode": {
    "name": "ipython",
    "version": 3
   },
   "file_extension": ".py",
   "mimetype": "text/x-python",
   "name": "python",
   "nbconvert_exporter": "python",
   "pygments_lexer": "ipython3",
   "version": "3.10.8"
  }
 },
 "nbformat": 4,
 "nbformat_minor": 5
}
